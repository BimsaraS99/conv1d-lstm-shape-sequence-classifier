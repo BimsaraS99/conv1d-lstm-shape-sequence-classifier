{
 "cells": [
  {
   "cell_type": "markdown",
   "id": "4b9290af",
   "metadata": {},
   "source": [
    "### Import Libraries"
   ]
  },
  {
   "cell_type": "code",
   "execution_count": 406,
   "id": "42c10f13",
   "metadata": {},
   "outputs": [],
   "source": [
    "# Core PyTorch\n",
    "import torch\n",
    "import torch.nn as nn\n",
    "import torch.optim as optim\n",
    "from torch.utils.data import Dataset, DataLoader\n",
    "\n",
    "# NumPy\n",
    "import numpy as np\n",
    "\n",
    "# (Optional) Progress bar and visualization\n",
    "from tqdm import tqdm\n",
    "import matplotlib.pyplot as plt  # For plotting loss/accuracy curves\n",
    "\n",
    "# (Optional) If you read/write data from files\n",
    "import os\n",
    "import json\n",
    "import csv"
   ]
  },
  {
   "cell_type": "markdown",
   "id": "6605d112",
   "metadata": {},
   "source": [
    "### Data Preprocessing"
   ]
  },
  {
   "cell_type": "markdown",
   "id": "3fa0d9db",
   "metadata": {},
   "source": [
    "Find dataset sizes"
   ]
  },
  {
   "cell_type": "code",
   "execution_count": 407,
   "id": "f387625d",
   "metadata": {},
   "outputs": [
    {
     "name": "stdout",
     "output_type": "stream",
     "text": [
      "Maximum number of (x, y) coordinate pairs: 385\n",
      "Maximum number of columns in a row (including label): 771\n"
     ]
    }
   ],
   "source": [
    "max_points = 0\n",
    "max_columns = 0\n",
    "\n",
    "with open(\"dataset/augmented_data.csv\", \"r\") as file:\n",
    "    for line in file:\n",
    "        parts = line.strip().split(\",\")\n",
    "        label = parts[0]  # e.g., 'heart'\n",
    "        coordinates = parts[1:]\n",
    "        \n",
    "        num_coords = len(coordinates) // 2  # number of (x, y) pairs\n",
    "        max_points = max(max_points, num_coords)\n",
    "        max_columns = max(max_columns, len(parts))\n",
    "\n",
    "print(f\"Maximum number of (x, y) coordinate pairs: {max_points}\")\n",
    "print(f\"Maximum number of columns in a row (including label): {max_columns}\")\n"
   ]
  },
  {
   "cell_type": "markdown",
   "id": "3f79b2d0",
   "metadata": {},
   "source": [
    "One hot encoding and padding"
   ]
  },
  {
   "cell_type": "code",
   "execution_count": 408,
   "id": "51ca854c",
   "metadata": {},
   "outputs": [
    {
     "name": "stdout",
     "output_type": "stream",
     "text": [
      "Processed data saved to 'dataset/processed_sequences.csv'\n"
     ]
    }
   ],
   "source": [
    "label_map = {\"heart\": 0, \"circle\": 1}  # Add more if needed\n",
    "max_columns = 771\n",
    "max_coords = max_columns - 1  # 802 coordinate values (x,y pairs)\n",
    "\n",
    "input_file = \"dataset/augmented_data.csv\"\n",
    "output_file = \"dataset/processed_sequences.csv\"\n",
    "\n",
    "with open(input_file, \"r\") as infile, open(output_file, \"w\", newline=\"\") as outfile:\n",
    "    reader = csv.reader(infile)\n",
    "    writer = csv.writer(outfile)\n",
    "    \n",
    "    for row in reader:\n",
    "        label_str = row[0]\n",
    "        coords_str = row[1:]\n",
    "        \n",
    "        # Encode label\n",
    "        label = label_map.get(label_str, -1)  # unknown labels get -1\n",
    "        \n",
    "        # Convert coordinates to float\n",
    "        coords = list(map(int, coords_str))\n",
    "        \n",
    "        # Pad with zeros to max_coords\n",
    "        if len(coords) < max_coords:\n",
    "            coords += [0.0] * (max_coords - len(coords))\n",
    "        else:\n",
    "            coords = coords[:max_coords]  # truncate if needed\n",
    "        \n",
    "        # Write row: label + padded coords\n",
    "        writer.writerow([label] + coords)\n",
    "\n",
    "print(f\"Processed data saved to '{output_file}'\")"
   ]
  },
  {
   "cell_type": "code",
   "execution_count": 409,
   "id": "55f47745",
   "metadata": {},
   "outputs": [
    {
     "name": "stdout",
     "output_type": "stream",
     "text": [
      "Unique row lengths: {771}\n",
      "All rows have the same shape.\n"
     ]
    }
   ],
   "source": [
    "with open(output_file, \"r\") as infile:\n",
    "    reader = csv.reader(infile)\n",
    "    row_lengths = [len(row) for row in reader]\n",
    "\n",
    "unique_lengths = set(row_lengths)\n",
    "print(f\"Unique row lengths: {unique_lengths}\")\n",
    "if len(unique_lengths) == 1:\n",
    "    print(\"All rows have the same shape.\")\n",
    "else:\n",
    "    print(\"Rows have different shapes.\")"
   ]
  },
  {
   "cell_type": "markdown",
   "id": "f309a9d7",
   "metadata": {},
   "source": [
    "### Dataset class and Data Loading"
   ]
  },
  {
   "cell_type": "markdown",
   "id": "8ec340ec",
   "metadata": {},
   "source": [
    "dataset class"
   ]
  },
  {
   "cell_type": "code",
   "execution_count": 410,
   "id": "4a3c9c6c",
   "metadata": {},
   "outputs": [],
   "source": [
    "class CoordinateDataset(Dataset):\n",
    "    def __init__(self, csv_file, max_len = 771, image_width=1280, image_height=720):\n",
    "        self.data = []\n",
    "        self.labels = []\n",
    "\n",
    "        self.image_width = image_width\n",
    "        self.image_height = image_height\n",
    "\n",
    "        with open(csv_file, \"r\") as file:\n",
    "            reader = csv.reader(file)\n",
    "            for row in reader:\n",
    "                label = int(row[0])\n",
    "                coords = list(map(float, row[1:]))\n",
    "\n",
    "                self.data.append(coords)\n",
    "                self.labels.append(label)\n",
    "\n",
    "        self.max_len = max_len\n",
    "\n",
    "\n",
    "    def __len__(self):\n",
    "        return len(self.data)\n",
    "\n",
    "\n",
    "    def __getitem__(self, idx):\n",
    "        seq = self.data[idx]\n",
    "        data = torch.tensor(seq, dtype=torch.float32).reshape(-1, 2)\n",
    "\n",
    "        # Normalize: X / 1280, Y / 720\n",
    "        data[:, 0] = data[:, 0] / self.image_width   # Normalize X\n",
    "        data[:, 1] = data[:, 1] / self.image_height  # Normalize Y\n",
    "        \n",
    "        label = torch.tensor(self.labels[idx], dtype=torch.float32)\n",
    "\n",
    "        return data, label"
   ]
  },
  {
   "cell_type": "code",
   "execution_count": 411,
   "id": "0fc818e4",
   "metadata": {},
   "outputs": [
    {
     "name": "stdout",
     "output_type": "stream",
     "text": [
      "Data shape: torch.Size([385, 2])\n",
      "Label shape: torch.Size([])\n"
     ]
    }
   ],
   "source": [
    "dataset = CoordinateDataset(\"dataset/processed_sequences.csv\")\n",
    "\n",
    "print(\"Data shape:\", dataset[0][0].shape)     # Should be (N, 2)\n",
    "print(\"Label shape:\", dataset[0][1].shape)   # Should be torch.Size([]) for scalar label"
   ]
  },
  {
   "cell_type": "markdown",
   "id": "7418c0b6",
   "metadata": {},
   "source": [
    "loading dataset as an obejct"
   ]
  },
  {
   "cell_type": "code",
   "execution_count": 412,
   "id": "f148ce7e",
   "metadata": {},
   "outputs": [],
   "source": [
    "dataloader = DataLoader(dataset, batch_size=8, shuffle=True)"
   ]
  },
  {
   "cell_type": "code",
   "execution_count": 413,
   "id": "d95755a8",
   "metadata": {},
   "outputs": [
    {
     "name": "stdout",
     "output_type": "stream",
     "text": [
      "Batch sequences shape: torch.Size([8, 385, 2])\n",
      "Batch labels shape: torch.Size([8])\n",
      "8\n"
     ]
    }
   ],
   "source": [
    "for s, l in dataloader:\n",
    "    print(\"Batch sequences shape:\", s.shape)\n",
    "    print(\"Batch labels shape:\", l.shape)\n",
    "    break\n",
    "\n",
    "print(dataloader.batch_size)"
   ]
  },
  {
   "cell_type": "markdown",
   "id": "c155a7b5",
   "metadata": {},
   "source": [
    "### Deep Learning Model"
   ]
  },
  {
   "cell_type": "code",
   "execution_count": 414,
   "id": "71f744ed",
   "metadata": {},
   "outputs": [],
   "source": [
    "class ConvLSTMClassifier(nn.Module):\n",
    "    def __init__(self, input_dim=2, conv_out_channels=32, lstm_hidden=64, lstm_layers=1):\n",
    "        super(ConvLSTMClassifier, self).__init__()\n",
    "\n",
    "        self.conv1 = nn.Conv1d(in_channels=input_dim, out_channels=conv_out_channels, kernel_size=5, padding=2)\n",
    "        self.reLU = nn.ReLU()\n",
    "        self.pool = nn.MaxPool1d(kernel_size=2)\n",
    "\n",
    "        self.lstm = nn.LSTM(\n",
    "            input_size=conv_out_channels, \n",
    "            hidden_size=lstm_hidden, \n",
    "            num_layers=lstm_layers, \n",
    "            batch_first=True\n",
    "        )\n",
    "\n",
    "        self.fc = nn.Linear(lstm_hidden, 1)\n",
    "\n",
    "\n",
    "    def forward(self, x):\n",
    "         \n",
    "        x = x.permute(0, 2, 1) \n",
    "        x = self.conv1(x)\n",
    "        x = self.reLU(x)\n",
    "        x = self.pool(x)\n",
    "\n",
    "        x = x.permute(0, 2, 1)  # Change shape to (batch_size, seq_len, features)\n",
    "        x, _ = self.lstm(x)  # LSTM expects (batch_size, seq_len, features)\n",
    "        x = x[:, -1, :]\n",
    "        x = self.fc(x)\n",
    "\n",
    "        return x"
   ]
  },
  {
   "cell_type": "markdown",
   "id": "2cdd505b",
   "metadata": {},
   "source": [
    "Test run of the model"
   ]
  },
  {
   "cell_type": "code",
   "execution_count": 415,
   "id": "3628e7ac",
   "metadata": {},
   "outputs": [
    {
     "data": {
      "text/plain": [
       "torch.Size([8, 1])"
      ]
     },
     "execution_count": 415,
     "metadata": {},
     "output_type": "execute_result"
    }
   ],
   "source": [
    "images = torch.randn(8, 385, 2)  # Example input: batch of 8 sequences, each with 771 (x,y) pairs\n",
    "model = ConvLSTMClassifier()\n",
    "output = model(images)\n",
    "output.shape"
   ]
  },
  {
   "cell_type": "markdown",
   "id": "91893816",
   "metadata": {},
   "source": [
    "### Training Loop"
   ]
  },
  {
   "cell_type": "markdown",
   "id": "39cb3351",
   "metadata": {},
   "source": [
    "Load data, Define model, Optimizer"
   ]
  },
  {
   "cell_type": "code",
   "execution_count": 416,
   "id": "2e10e4bf",
   "metadata": {},
   "outputs": [],
   "source": [
    "batch_size = 8\n",
    "learning_rate = 1e-3\n",
    "epochs = 300"
   ]
  },
  {
   "cell_type": "code",
   "execution_count": 417,
   "id": "850f1528",
   "metadata": {},
   "outputs": [
    {
     "name": "stdout",
     "output_type": "stream",
     "text": [
      "Using device: cuda\n"
     ]
    }
   ],
   "source": [
    "dataloader = DataLoader(dataset, batch_size=batch_size, shuffle=True)\n",
    "\n",
    "device = torch.device(\"cuda\" if torch.cuda.is_available() else \"cpu\")\n",
    "print(f\"Using device: {device}\")\n",
    "\n",
    "model = ConvLSTMClassifier().to(device)\n",
    "optimizer = optim.Adam(model.parameters(), lr=learning_rate)\n",
    "criterion = nn.BCEWithLogitsLoss()"
   ]
  },
  {
   "cell_type": "code",
   "execution_count": 418,
   "id": "2590815e",
   "metadata": {},
   "outputs": [
    {
     "name": "stdout",
     "output_type": "stream",
     "text": [
      "Epoch [1/300], Average Loss: 0.6946\n",
      "Epoch [2/300], Average Loss: 0.6934\n",
      "Epoch [3/300], Average Loss: 0.7016\n",
      "Epoch [4/300], Average Loss: 0.6977\n",
      "Epoch [5/300], Average Loss: 0.6960\n",
      "Epoch [6/300], Average Loss: 0.6951\n",
      "Epoch [7/300], Average Loss: 0.6937\n",
      "Epoch [8/300], Average Loss: 0.6938\n",
      "Epoch [9/300], Average Loss: 0.6883\n",
      "Epoch [10/300], Average Loss: 0.6874\n",
      "Epoch [11/300], Average Loss: 0.6862\n",
      "Epoch [12/300], Average Loss: 0.6589\n",
      "Epoch [13/300], Average Loss: 0.6544\n",
      "Epoch [14/300], Average Loss: 0.6503\n",
      "Epoch [15/300], Average Loss: 0.6540\n",
      "Epoch [16/300], Average Loss: 0.6513\n",
      "Epoch [17/300], Average Loss: 0.6458\n",
      "Epoch [18/300], Average Loss: 0.6446\n",
      "Epoch [19/300], Average Loss: 0.6452\n",
      "Epoch [20/300], Average Loss: 0.6378\n",
      "Epoch [21/300], Average Loss: 0.6010\n",
      "Epoch [22/300], Average Loss: 0.5642\n",
      "Epoch [23/300], Average Loss: 0.5946\n",
      "Epoch [24/300], Average Loss: 0.5629\n",
      "Epoch [25/300], Average Loss: 0.5324\n",
      "Epoch [26/300], Average Loss: 0.6151\n",
      "Epoch [27/300], Average Loss: 0.5618\n",
      "Epoch [28/300], Average Loss: 0.5139\n",
      "Epoch [29/300], Average Loss: 0.6647\n",
      "Epoch [30/300], Average Loss: 0.6845\n",
      "Epoch [31/300], Average Loss: 0.6722\n",
      "Epoch [32/300], Average Loss: 0.6513\n",
      "Epoch [33/300], Average Loss: 0.6501\n",
      "Epoch [34/300], Average Loss: 0.6467\n",
      "Epoch [35/300], Average Loss: 0.6450\n",
      "Epoch [36/300], Average Loss: 0.6445\n",
      "Epoch [37/300], Average Loss: 0.6484\n",
      "Epoch [38/300], Average Loss: 0.6493\n",
      "Epoch [39/300], Average Loss: 0.6453\n",
      "Epoch [40/300], Average Loss: 0.6452\n",
      "Epoch [41/300], Average Loss: 0.6372\n",
      "Epoch [42/300], Average Loss: 0.6289\n",
      "Epoch [43/300], Average Loss: 0.6171\n",
      "Epoch [44/300], Average Loss: 0.5536\n",
      "Epoch [45/300], Average Loss: 0.5349\n",
      "Epoch [46/300], Average Loss: 0.5145\n",
      "Epoch [47/300], Average Loss: 0.6415\n",
      "Epoch [48/300], Average Loss: 0.6448\n",
      "Epoch [49/300], Average Loss: 0.6477\n",
      "Epoch [50/300], Average Loss: 0.6433\n",
      "Epoch [51/300], Average Loss: 0.6384\n",
      "Epoch [52/300], Average Loss: 0.6175\n",
      "Epoch [53/300], Average Loss: 0.5243\n",
      "Epoch [54/300], Average Loss: 0.4947\n",
      "Epoch [55/300], Average Loss: 0.5080\n",
      "Epoch [56/300], Average Loss: 0.4898\n",
      "Epoch [57/300], Average Loss: 0.4784\n",
      "Epoch [58/300], Average Loss: 0.4862\n",
      "Epoch [59/300], Average Loss: 0.5112\n",
      "Epoch [60/300], Average Loss: 0.5573\n",
      "Epoch [61/300], Average Loss: 0.4952\n",
      "Epoch [62/300], Average Loss: 0.4829\n",
      "Epoch [63/300], Average Loss: 0.4797\n",
      "Epoch [64/300], Average Loss: 0.4824\n",
      "Epoch [65/300], Average Loss: 0.4804\n",
      "Epoch [66/300], Average Loss: 0.4795\n",
      "Epoch [67/300], Average Loss: 0.4775\n",
      "Epoch [68/300], Average Loss: 0.4734\n",
      "Epoch [69/300], Average Loss: 0.4739\n",
      "Epoch [70/300], Average Loss: 0.5014\n",
      "Epoch [71/300], Average Loss: 0.4687\n",
      "Epoch [72/300], Average Loss: 0.4516\n",
      "Epoch [73/300], Average Loss: 0.5169\n",
      "Epoch [74/300], Average Loss: 0.4766\n",
      "Epoch [75/300], Average Loss: 0.4702\n",
      "Epoch [76/300], Average Loss: 0.4980\n",
      "Epoch [77/300], Average Loss: 0.4852\n",
      "Epoch [78/300], Average Loss: 0.4769\n",
      "Epoch [79/300], Average Loss: 0.4697\n",
      "Epoch [80/300], Average Loss: 0.4563\n",
      "Epoch [81/300], Average Loss: 0.4711\n",
      "Epoch [82/300], Average Loss: 0.4613\n",
      "Epoch [83/300], Average Loss: 0.4869\n",
      "Epoch [84/300], Average Loss: 0.4884\n",
      "Epoch [85/300], Average Loss: 0.4567\n",
      "Epoch [86/300], Average Loss: 0.4686\n",
      "Epoch [87/300], Average Loss: 0.4482\n",
      "Epoch [88/300], Average Loss: 0.4571\n",
      "Epoch [89/300], Average Loss: 0.4319\n",
      "Epoch [90/300], Average Loss: 0.4776\n",
      "Epoch [91/300], Average Loss: 0.4798\n",
      "Epoch [92/300], Average Loss: 0.4534\n",
      "Epoch [93/300], Average Loss: 0.6040\n",
      "Epoch [94/300], Average Loss: 0.5727\n",
      "Epoch [95/300], Average Loss: 0.4639\n",
      "Epoch [96/300], Average Loss: 0.4635\n",
      "Epoch [97/300], Average Loss: 0.4621\n",
      "Epoch [98/300], Average Loss: 0.4883\n",
      "Epoch [99/300], Average Loss: 0.4512\n",
      "Epoch [100/300], Average Loss: 0.4325\n",
      "Epoch [101/300], Average Loss: 0.4246\n",
      "Epoch [102/300], Average Loss: 0.4171\n",
      "Epoch [103/300], Average Loss: 0.4196\n",
      "Epoch [104/300], Average Loss: 0.4760\n",
      "Epoch [105/300], Average Loss: 0.4624\n",
      "Epoch [106/300], Average Loss: 0.4382\n",
      "Epoch [107/300], Average Loss: 0.4132\n",
      "Epoch [108/300], Average Loss: 0.4727\n",
      "Epoch [109/300], Average Loss: 0.4366\n",
      "Epoch [110/300], Average Loss: 0.4752\n",
      "Epoch [111/300], Average Loss: 0.4462\n",
      "Epoch [112/300], Average Loss: 0.4289\n",
      "Epoch [113/300], Average Loss: 0.4548\n",
      "Epoch [114/300], Average Loss: 0.4394\n",
      "Epoch [115/300], Average Loss: 0.4957\n",
      "Epoch [116/300], Average Loss: 0.4488\n",
      "Epoch [117/300], Average Loss: 0.4233\n",
      "Epoch [118/300], Average Loss: 0.4410\n",
      "Epoch [119/300], Average Loss: 0.4223\n",
      "Epoch [120/300], Average Loss: 0.4042\n",
      "Epoch [121/300], Average Loss: 0.5421\n",
      "Epoch [122/300], Average Loss: 0.5100\n",
      "Epoch [123/300], Average Loss: 0.5395\n",
      "Epoch [124/300], Average Loss: 0.4494\n",
      "Epoch [125/300], Average Loss: 0.4155\n",
      "Epoch [126/300], Average Loss: 0.4068\n",
      "Epoch [127/300], Average Loss: 0.4378\n",
      "Epoch [128/300], Average Loss: 0.4277\n",
      "Epoch [129/300], Average Loss: 0.4260\n",
      "Epoch [130/300], Average Loss: 0.4167\n",
      "Epoch [131/300], Average Loss: 0.4199\n",
      "Epoch [132/300], Average Loss: 0.4249\n",
      "Epoch [133/300], Average Loss: 0.4120\n",
      "Epoch [134/300], Average Loss: 0.4076\n",
      "Epoch [135/300], Average Loss: 0.4005\n",
      "Epoch [136/300], Average Loss: 0.4096\n",
      "Epoch [137/300], Average Loss: 0.4937\n",
      "Epoch [138/300], Average Loss: 0.5933\n",
      "Epoch [139/300], Average Loss: 0.5390\n",
      "Epoch [140/300], Average Loss: 0.4545\n",
      "Epoch [141/300], Average Loss: 0.4550\n",
      "Epoch [142/300], Average Loss: 0.4361\n",
      "Epoch [143/300], Average Loss: 0.4163\n",
      "Epoch [144/300], Average Loss: 0.4281\n",
      "Epoch [145/300], Average Loss: 0.4210\n",
      "Epoch [146/300], Average Loss: 0.4108\n",
      "Epoch [147/300], Average Loss: 0.4069\n",
      "Epoch [148/300], Average Loss: 0.4290\n",
      "Epoch [149/300], Average Loss: 0.4179\n",
      "Epoch [150/300], Average Loss: 0.4138\n",
      "Epoch [151/300], Average Loss: 0.4217\n",
      "Epoch [152/300], Average Loss: 0.4047\n",
      "Epoch [153/300], Average Loss: 0.4330\n",
      "Epoch [154/300], Average Loss: 0.3784\n",
      "Epoch [155/300], Average Loss: 0.4766\n",
      "Epoch [156/300], Average Loss: 0.4564\n",
      "Epoch [157/300], Average Loss: 0.4520\n",
      "Epoch [158/300], Average Loss: 0.4138\n",
      "Epoch [159/300], Average Loss: 0.3977\n",
      "Epoch [160/300], Average Loss: 0.3770\n",
      "Epoch [161/300], Average Loss: 0.5040\n",
      "Epoch [162/300], Average Loss: 0.4547\n",
      "Epoch [163/300], Average Loss: 0.5121\n",
      "Epoch [164/300], Average Loss: 0.4224\n",
      "Epoch [165/300], Average Loss: 0.4314\n",
      "Epoch [166/300], Average Loss: 0.4504\n",
      "Epoch [167/300], Average Loss: 0.4387\n",
      "Epoch [168/300], Average Loss: 0.4073\n",
      "Epoch [169/300], Average Loss: 0.4027\n",
      "Epoch [170/300], Average Loss: 0.4384\n",
      "Epoch [171/300], Average Loss: 0.4131\n",
      "Epoch [172/300], Average Loss: 0.3950\n",
      "Epoch [173/300], Average Loss: 0.4261\n",
      "Epoch [174/300], Average Loss: 0.4161\n",
      "Epoch [175/300], Average Loss: 0.4543\n",
      "Epoch [176/300], Average Loss: 0.4080\n",
      "Epoch [177/300], Average Loss: 0.4011\n",
      "Epoch [178/300], Average Loss: 0.4226\n",
      "Epoch [179/300], Average Loss: 0.3974\n",
      "Epoch [180/300], Average Loss: 0.3819\n",
      "Epoch [181/300], Average Loss: 0.3919\n",
      "Epoch [182/300], Average Loss: 0.4142\n",
      "Epoch [183/300], Average Loss: 0.3885\n",
      "Epoch [184/300], Average Loss: 0.3888\n",
      "Epoch [185/300], Average Loss: 0.3735\n",
      "Epoch [186/300], Average Loss: 0.3592\n",
      "Epoch [187/300], Average Loss: 0.4290\n",
      "Epoch [188/300], Average Loss: 0.3732\n",
      "Epoch [189/300], Average Loss: 0.3620\n",
      "Epoch [190/300], Average Loss: 0.3437\n",
      "Epoch [191/300], Average Loss: 0.3123\n",
      "Epoch [192/300], Average Loss: 0.2570\n",
      "Epoch [193/300], Average Loss: 0.2815\n",
      "Epoch [194/300], Average Loss: 0.2189\n",
      "Epoch [195/300], Average Loss: 0.2005\n",
      "Epoch [196/300], Average Loss: 0.1839\n",
      "Epoch [197/300], Average Loss: 0.1827\n",
      "Epoch [198/300], Average Loss: 0.2160\n",
      "Epoch [199/300], Average Loss: 0.1656\n",
      "Epoch [200/300], Average Loss: 0.1907\n",
      "Epoch [201/300], Average Loss: 0.1442\n",
      "Epoch [202/300], Average Loss: 0.1428\n",
      "Epoch [203/300], Average Loss: 0.1391\n",
      "Epoch [204/300], Average Loss: 0.1375\n",
      "Epoch [205/300], Average Loss: 0.1122\n",
      "Epoch [206/300], Average Loss: 0.1120\n",
      "Epoch [207/300], Average Loss: 0.1218\n",
      "Epoch [208/300], Average Loss: 0.1479\n",
      "Epoch [209/300], Average Loss: 0.1009\n",
      "Epoch [210/300], Average Loss: 0.1079\n",
      "Epoch [211/300], Average Loss: 0.0821\n",
      "Epoch [212/300], Average Loss: 0.1255\n",
      "Epoch [213/300], Average Loss: 0.0927\n",
      "Epoch [214/300], Average Loss: 0.0889\n",
      "Epoch [215/300], Average Loss: 0.0818\n",
      "Epoch [216/300], Average Loss: 0.0540\n",
      "Epoch [217/300], Average Loss: 0.0721\n",
      "Epoch [218/300], Average Loss: 0.0651\n",
      "Epoch [219/300], Average Loss: 0.1070\n",
      "Epoch [220/300], Average Loss: 0.0888\n",
      "Epoch [221/300], Average Loss: 0.1111\n",
      "Epoch [222/300], Average Loss: 0.0733\n",
      "Epoch [223/300], Average Loss: 0.0652\n",
      "Epoch [224/300], Average Loss: 0.0527\n",
      "Epoch [225/300], Average Loss: 0.0639\n",
      "Epoch [226/300], Average Loss: 0.0529\n",
      "Epoch [227/300], Average Loss: 0.0751\n",
      "Epoch [228/300], Average Loss: 0.0855\n",
      "Epoch [229/300], Average Loss: 0.0716\n",
      "Epoch [230/300], Average Loss: 0.0600\n",
      "Epoch [231/300], Average Loss: 0.0430\n",
      "Epoch [232/300], Average Loss: 0.0563\n",
      "Epoch [233/300], Average Loss: 0.0807\n",
      "Epoch [234/300], Average Loss: 0.0636\n",
      "Epoch [235/300], Average Loss: 0.0648\n",
      "Epoch [236/300], Average Loss: 0.0688\n",
      "Epoch [237/300], Average Loss: 0.0427\n",
      "Epoch [238/300], Average Loss: 0.0596\n",
      "Epoch [239/300], Average Loss: 0.0410\n",
      "Epoch [240/300], Average Loss: 0.0450\n",
      "Epoch [241/300], Average Loss: 0.0477\n",
      "Epoch [242/300], Average Loss: 0.0895\n",
      "Epoch [243/300], Average Loss: 0.0544\n",
      "Epoch [244/300], Average Loss: 0.0713\n",
      "Epoch [245/300], Average Loss: 0.0810\n",
      "Epoch [246/300], Average Loss: 0.0349\n",
      "Epoch [247/300], Average Loss: 0.0508\n",
      "Epoch [248/300], Average Loss: 0.0280\n",
      "Epoch [249/300], Average Loss: 0.1730\n",
      "Epoch [250/300], Average Loss: 0.0549\n",
      "Epoch [251/300], Average Loss: 0.0382\n",
      "Epoch [252/300], Average Loss: 0.0457\n",
      "Epoch [253/300], Average Loss: 0.0561\n",
      "Epoch [254/300], Average Loss: 0.0295\n",
      "Epoch [255/300], Average Loss: 0.0479\n",
      "Epoch [256/300], Average Loss: 0.0295\n",
      "Epoch [257/300], Average Loss: 0.0241\n",
      "Epoch [258/300], Average Loss: 0.0707\n",
      "Epoch [259/300], Average Loss: 0.0334\n",
      "Epoch [260/300], Average Loss: 0.0169\n",
      "Epoch [261/300], Average Loss: 0.0585\n",
      "Epoch [262/300], Average Loss: 0.0613\n",
      "Epoch [263/300], Average Loss: 0.0453\n",
      "Epoch [264/300], Average Loss: 0.0261\n",
      "Epoch [265/300], Average Loss: 0.0918\n",
      "Epoch [266/300], Average Loss: 0.0429\n",
      "Epoch [267/300], Average Loss: 0.0142\n",
      "Epoch [268/300], Average Loss: 0.0264\n",
      "Epoch [269/300], Average Loss: 0.0338\n",
      "Epoch [270/300], Average Loss: 0.0285\n",
      "Epoch [271/300], Average Loss: 0.0773\n",
      "Epoch [272/300], Average Loss: 0.0222\n",
      "Epoch [273/300], Average Loss: 0.0287\n",
      "Epoch [274/300], Average Loss: 0.0378\n",
      "Epoch [275/300], Average Loss: 0.0254\n",
      "Epoch [276/300], Average Loss: 0.0119\n",
      "Epoch [277/300], Average Loss: 0.0464\n",
      "Epoch [278/300], Average Loss: 0.0833\n",
      "Epoch [279/300], Average Loss: 0.0145\n",
      "Epoch [280/300], Average Loss: 0.0083\n",
      "Epoch [281/300], Average Loss: 0.0569\n",
      "Epoch [282/300], Average Loss: 0.1201\n",
      "Epoch [283/300], Average Loss: 0.0627\n",
      "Epoch [284/300], Average Loss: 0.1881\n",
      "Epoch [285/300], Average Loss: 0.0457\n",
      "Epoch [286/300], Average Loss: 0.0348\n",
      "Epoch [287/300], Average Loss: 0.0177\n",
      "Epoch [288/300], Average Loss: 0.0485\n",
      "Epoch [289/300], Average Loss: 0.0141\n",
      "Epoch [290/300], Average Loss: 0.0057\n",
      "Epoch [291/300], Average Loss: 0.0034\n",
      "Epoch [292/300], Average Loss: 0.0019\n",
      "Epoch [293/300], Average Loss: 0.0648\n",
      "Epoch [294/300], Average Loss: 0.0664\n",
      "Epoch [295/300], Average Loss: 0.0324\n",
      "Epoch [296/300], Average Loss: 0.0206\n",
      "Epoch [297/300], Average Loss: 0.0460\n",
      "Epoch [298/300], Average Loss: 0.0043\n",
      "Epoch [299/300], Average Loss: 0.0153\n",
      "Epoch [300/300], Average Loss: 0.0513\n"
     ]
    }
   ],
   "source": [
    "avg_loss_overtime = []\n",
    "\n",
    "for epoch in range(epochs):\n",
    "    model.train()\n",
    "    running_loss = 0.0\n",
    "\n",
    "    for images, label in dataloader:\n",
    "        images = images.to(device)\n",
    "        label = label.to(device).unsqueeze(1)  # Ensure label shape is (B, 1) for binary classification\n",
    "\n",
    "        optimizer.zero_grad()\n",
    "\n",
    "        # Forward pass\n",
    "        outputs = model(images)\n",
    "\n",
    "        # Compute loss\n",
    "        loss = criterion(outputs, label)\n",
    "\n",
    "        # Print loss for tracking\n",
    "\n",
    "        # Backward pass and optimization\n",
    "        loss.backward()\n",
    "        optimizer.step()\n",
    "\n",
    "        running_loss += loss.item()\n",
    "\n",
    "    avg_loss = running_loss / len(dataloader)\n",
    "    avg_loss_overtime.append(avg_loss)\n",
    "    print(f\"Epoch [{epoch+1}/{epochs}], Average Loss: {avg_loss:.4f}\")\n"
   ]
  },
  {
   "cell_type": "code",
   "execution_count": 419,
   "id": "65dc7afd",
   "metadata": {},
   "outputs": [
    {
     "data": {
      "image/png": "[encoded data removed]",
      "text/plain": [
       "<Figure size 800x400 with 1 Axes>"
      ]
     },
     "metadata": {},
     "output_type": "display_data"
    }
   ],
   "source": [
    "plt.figure(figsize=(8, 4))\n",
    "plt.plot(avg_loss_overtime, label=\"Average Loss\")\n",
    "plt.xlabel(\"Epoch\")\n",
    "plt.ylabel(\"Loss\")\n",
    "plt.title(\"Training Loss Over Epochs\")\n",
    "plt.legend()\n",
    "plt.grid(True)\n",
    "plt.show()"
   ]
  },
  {
   "cell_type": "code",
   "execution_count": 420,
   "id": "77761e4f",
   "metadata": {},
   "outputs": [
    {
     "name": "stdout",
     "output_type": "stream",
     "text": [
      "Model saved to convlstm_classifier.pth\n"
     ]
    }
   ],
   "source": [
    "# Save the trained model's state_dict\n",
    "torch.save(model.state_dict(), \"convlstm_classifier.pth\")\n",
    "print(\"Model saved to convlstm_classifier.pth\")"
   ]
  }
 ],
 "metadata": {
  "kernelspec": {
   "display_name": "Python 3",
   "language": "python",
   "name": "python3"
  },
  "language_info": {
   "codemirror_mode": {
    "name": "ipython",
    "version": 3
   },
   "file_extension": ".py",
   "mimetype": "text/x-python",
   "name": "python",
   "nbconvert_exporter": "python",
   "pygments_lexer": "ipython3",
   "version": "3.10.16"
  }
 },
 "nbformat": 4,
 "nbformat_minor": 5
}
